{
 "cells": [
  {
   "cell_type": "markdown",
   "id": "a393b60b-4b57-4e51-b732-0e676e5a7120",
   "metadata": {},
   "source": [
    "# YENİ BAŞLAYANLAR İÇİN MAKİNE ÖĞRENMESİ "
   ]
  },
  {
   "cell_type": "markdown",
   "id": "08ebc322-716b-40d2-b776-6e137abeb9aa",
   "metadata": {},
   "source": [
    "## Numpy Nedir? "
   ]
  },
  {
   "cell_type": "markdown",
   "id": "2a937d20-5e79-46aa-8ecd-c61eb7c5a9c0",
   "metadata": {},
   "source": [
    "NumPy, dizilerle çalışmak için kullanılan bir Python kütüphanesidir. Ayrıca doğrusal cebir, fourier dönüşümü ve matrisler alanında çalışmak için de gerekli işlevlere sahiptir. NumPy, 2005 yılında Travis Oliphant tarafından oluşturulmuştur. Açık kaynak kodlu bir projedir ve özgürce kullanabilirsiniz. NumPy, Numeriacal Python (Sayısal Python)’un kısaltmasıdır."
   ]
  },
  {
   "cell_type": "markdown",
   "id": "8f4469d8-b9ac-44e3-8452-bc85c6f5973a",
   "metadata": {},
   "source": [
    "## Niçin Numpy Kullanılır? "
   ]
  },
  {
   "cell_type": "markdown",
   "id": "cac4656a-3bfc-4295-90c6-2ddd9f95e0ff",
   "metadata": {},
   "source": [
    "NumPy, geleneksel Python listelerinden 50 kata kadar daha hızlı bir dizi nesnesi sağlamayı amaçlamaktadır. NumPy’deki dizi nesnesi (array) ndarray olarak adlandırılır ve ndarray, çalışmayı çok kolaylaştıran birçok destekleyici işlev sağlar."
   ]
  },
  {
   "cell_type": "code",
   "execution_count": 28,
   "id": "b45b3d65-6542-48f5-a646-2c6edb67a205",
   "metadata": {},
   "outputs": [],
   "source": [
    "import numpy as np "
   ]
  },
  {
   "cell_type": "code",
   "execution_count": 29,
   "id": "51551dea-e865-4288-a8f7-f680ad3bfb0e",
   "metadata": {},
   "outputs": [
    {
     "name": "stdout",
     "output_type": "stream",
     "text": [
      "int32\n"
     ]
    }
   ],
   "source": [
    "liste = np.array([0,1,8,4])  \n",
    "print(liste.dtype)"
   ]
  },
  {
   "cell_type": "code",
   "execution_count": 30,
   "id": "c8550c00-692a-4307-8b95-a2762e7a9b10",
   "metadata": {},
   "outputs": [
    {
     "data": {
      "text/plain": [
       "numpy.ndarray"
      ]
     },
     "execution_count": 30,
     "metadata": {},
     "output_type": "execute_result"
    }
   ],
   "source": [
    "type(liste)"
   ]
  },
  {
   "cell_type": "code",
   "execution_count": 31,
   "id": "5062e383-0d85-447a-bd85-57675d78ad9f",
   "metadata": {},
   "outputs": [
    {
     "data": {
      "text/plain": [
       "1"
      ]
     },
     "execution_count": 31,
     "metadata": {},
     "output_type": "execute_result"
    }
   ],
   "source": [
    "liste.ndim"
   ]
  },
  {
   "cell_type": "code",
   "execution_count": 32,
   "id": "f8b2b78f-463a-48bc-b587-fc22d5d40701",
   "metadata": {},
   "outputs": [
    {
     "data": {
      "text/plain": [
       "array([[ 1.  ,  4.  ,  3.  ],\n",
       "       [ 8.  ,  7.  , 16.  ],\n",
       "       [13.7 ,  8.96, 32.25]])"
      ]
     },
     "execution_count": 32,
     "metadata": {},
     "output_type": "execute_result"
    }
   ],
   "source": [
    "# More than one dimension  \n",
    "np.array([[1,4,3], \n",
    "        [8,7,16], \n",
    "        [13.7,8.96,32.25]])"
   ]
  },
  {
   "cell_type": "code",
   "execution_count": 33,
   "id": "663a1959-147b-45e3-8410-0ecf2a562f81",
   "metadata": {},
   "outputs": [
    {
     "name": "stdout",
     "output_type": "stream",
     "text": [
      "float64\n"
     ]
    }
   ],
   "source": [
    "matris = np.array([[1,4,3], \n",
    "        [8,7,16], \n",
    "        [13.7,8.96,32.25]]) \n",
    "print(matris.dtype)"
   ]
  },
  {
   "cell_type": "code",
   "execution_count": 34,
   "id": "6911dea2-2922-4a9c-879a-e56617e967b4",
   "metadata": {},
   "outputs": [
    {
     "data": {
      "text/plain": [
       "2"
      ]
     },
     "execution_count": 34,
     "metadata": {},
     "output_type": "execute_result"
    }
   ],
   "source": [
    "matris.ndim"
   ]
  },
  {
   "cell_type": "code",
   "execution_count": 35,
   "id": "aa88bed8-1ed2-49e9-8af6-c91069745dbe",
   "metadata": {},
   "outputs": [
    {
     "name": "stdout",
     "output_type": "stream",
     "text": [
      "[ 0  3  6  9 12 15 18 21 24 27]\n"
     ]
    }
   ],
   "source": [
    "dizi = np.arange(0,30,3)  \n",
    "print(dizi)"
   ]
  },
  {
   "cell_type": "code",
   "execution_count": 36,
   "id": "30f62dc6-3e24-4439-bf3f-fd3ee309b40d",
   "metadata": {},
   "outputs": [
    {
     "data": {
      "text/plain": [
       "array([0., 0., 0., 0., 0., 0., 0., 0., 0., 0.])"
      ]
     },
     "execution_count": 36,
     "metadata": {},
     "output_type": "execute_result"
    }
   ],
   "source": [
    "np.zeros(10)"
   ]
  },
  {
   "cell_type": "markdown",
   "id": "2a21ebd5-3cda-4376-8a85-7550be92cdb4",
   "metadata": {},
   "source": [
    "## PANDAS NEDİR? "
   ]
  },
  {
   "cell_type": "markdown",
   "id": "fafa207b-5046-49ce-a806-e77a61d0e41c",
   "metadata": {},
   "source": [
    "pandas, veri işlemesi ve analizi için Python programlama dilinde yazılmış olan bir yazılım kütüphanesidir. Bu kütüphane temel olarak zaman etiketli serileri ve sayısal tabloları işlemek için bir veri yapısı oluşturur ve bu şekilde çeşitli işlemler bu veri yapısı üzerinde gerçekleştirilebilir olur."
   ]
  },
  {
   "cell_type": "code",
   "execution_count": null,
   "id": "133547f5-3601-4e23-908e-64efb3c70998",
   "metadata": {},
   "outputs": [],
   "source": []
  },
  {
   "cell_type": "code",
   "execution_count": 37,
   "id": "7e7cff8c-c3c1-4381-930d-f99d1ddc0061",
   "metadata": {},
   "outputs": [],
   "source": [
    "import pandas as pd\n",
    "import seaborn as sns\n",
    "import matplotlib.pyplot as plt"
   ]
  },
  {
   "cell_type": "code",
   "execution_count": 38,
   "id": "a17a9c3a-9d52-46e2-bf2c-382f0bfb370c",
   "metadata": {},
   "outputs": [],
   "source": [
    "df = pd.read_csv('https://query.data.world/s/k6tua5jtvnff5ti65lwpmn6rb7mmvz')"
   ]
  },
  {
   "cell_type": "code",
   "execution_count": 39,
   "id": "db6bfc77-1bc7-4849-80e3-108599c4e74e",
   "metadata": {},
   "outputs": [
    {
     "data": {
      "text/html": [
       "<div>\n",
       "<style scoped>\n",
       "    .dataframe tbody tr th:only-of-type {\n",
       "        vertical-align: middle;\n",
       "    }\n",
       "\n",
       "    .dataframe tbody tr th {\n",
       "        vertical-align: top;\n",
       "    }\n",
       "\n",
       "    .dataframe thead th {\n",
       "        text-align: right;\n",
       "    }\n",
       "</style>\n",
       "<table border=\"1\" class=\"dataframe\">\n",
       "  <thead>\n",
       "    <tr style=\"text-align: right;\">\n",
       "      <th></th>\n",
       "      <th>Name</th>\n",
       "      <th>GP</th>\n",
       "      <th>MIN</th>\n",
       "      <th>PTS</th>\n",
       "      <th>FGM</th>\n",
       "      <th>FGA</th>\n",
       "      <th>FG%</th>\n",
       "      <th>3P Made</th>\n",
       "      <th>3PA</th>\n",
       "      <th>3P%</th>\n",
       "      <th>...</th>\n",
       "      <th>FTA</th>\n",
       "      <th>FT%</th>\n",
       "      <th>OREB</th>\n",
       "      <th>DREB</th>\n",
       "      <th>REB</th>\n",
       "      <th>AST</th>\n",
       "      <th>STL</th>\n",
       "      <th>BLK</th>\n",
       "      <th>TOV</th>\n",
       "      <th>TARGET_5Yrs</th>\n",
       "    </tr>\n",
       "  </thead>\n",
       "  <tbody>\n",
       "    <tr>\n",
       "      <th>0</th>\n",
       "      <td>Brandon Ingram</td>\n",
       "      <td>36</td>\n",
       "      <td>27.4</td>\n",
       "      <td>7.4</td>\n",
       "      <td>2.6</td>\n",
       "      <td>7.6</td>\n",
       "      <td>34.7</td>\n",
       "      <td>0.5</td>\n",
       "      <td>2.1</td>\n",
       "      <td>25.0</td>\n",
       "      <td>...</td>\n",
       "      <td>2.3</td>\n",
       "      <td>69.9</td>\n",
       "      <td>0.7</td>\n",
       "      <td>3.4</td>\n",
       "      <td>4.1</td>\n",
       "      <td>1.9</td>\n",
       "      <td>0.4</td>\n",
       "      <td>0.4</td>\n",
       "      <td>1.3</td>\n",
       "      <td>0.0</td>\n",
       "    </tr>\n",
       "    <tr>\n",
       "      <th>1</th>\n",
       "      <td>Andrew Harrison</td>\n",
       "      <td>35</td>\n",
       "      <td>26.9</td>\n",
       "      <td>7.2</td>\n",
       "      <td>2.0</td>\n",
       "      <td>6.7</td>\n",
       "      <td>29.6</td>\n",
       "      <td>0.7</td>\n",
       "      <td>2.8</td>\n",
       "      <td>23.5</td>\n",
       "      <td>...</td>\n",
       "      <td>3.4</td>\n",
       "      <td>76.5</td>\n",
       "      <td>0.5</td>\n",
       "      <td>2.0</td>\n",
       "      <td>2.4</td>\n",
       "      <td>3.7</td>\n",
       "      <td>1.1</td>\n",
       "      <td>0.5</td>\n",
       "      <td>1.6</td>\n",
       "      <td>0.0</td>\n",
       "    </tr>\n",
       "    <tr>\n",
       "      <th>2</th>\n",
       "      <td>JaKarr Sampson</td>\n",
       "      <td>74</td>\n",
       "      <td>15.3</td>\n",
       "      <td>5.2</td>\n",
       "      <td>2.0</td>\n",
       "      <td>4.7</td>\n",
       "      <td>42.2</td>\n",
       "      <td>0.4</td>\n",
       "      <td>1.7</td>\n",
       "      <td>24.4</td>\n",
       "      <td>...</td>\n",
       "      <td>1.3</td>\n",
       "      <td>67.0</td>\n",
       "      <td>0.5</td>\n",
       "      <td>1.7</td>\n",
       "      <td>2.2</td>\n",
       "      <td>1.0</td>\n",
       "      <td>0.5</td>\n",
       "      <td>0.3</td>\n",
       "      <td>1.0</td>\n",
       "      <td>0.0</td>\n",
       "    </tr>\n",
       "    <tr>\n",
       "      <th>3</th>\n",
       "      <td>Malik Sealy</td>\n",
       "      <td>58</td>\n",
       "      <td>11.6</td>\n",
       "      <td>5.7</td>\n",
       "      <td>2.3</td>\n",
       "      <td>5.5</td>\n",
       "      <td>42.6</td>\n",
       "      <td>0.1</td>\n",
       "      <td>0.5</td>\n",
       "      <td>22.6</td>\n",
       "      <td>...</td>\n",
       "      <td>1.3</td>\n",
       "      <td>68.9</td>\n",
       "      <td>1.0</td>\n",
       "      <td>0.9</td>\n",
       "      <td>1.9</td>\n",
       "      <td>0.8</td>\n",
       "      <td>0.6</td>\n",
       "      <td>0.1</td>\n",
       "      <td>1.0</td>\n",
       "      <td>1.0</td>\n",
       "    </tr>\n",
       "    <tr>\n",
       "      <th>4</th>\n",
       "      <td>Matt Geiger</td>\n",
       "      <td>48</td>\n",
       "      <td>11.5</td>\n",
       "      <td>4.5</td>\n",
       "      <td>1.6</td>\n",
       "      <td>3.0</td>\n",
       "      <td>52.4</td>\n",
       "      <td>0.0</td>\n",
       "      <td>0.1</td>\n",
       "      <td>0.0</td>\n",
       "      <td>...</td>\n",
       "      <td>1.9</td>\n",
       "      <td>67.4</td>\n",
       "      <td>1.0</td>\n",
       "      <td>1.5</td>\n",
       "      <td>2.5</td>\n",
       "      <td>0.3</td>\n",
       "      <td>0.3</td>\n",
       "      <td>0.4</td>\n",
       "      <td>0.8</td>\n",
       "      <td>1.0</td>\n",
       "    </tr>\n",
       "    <tr>\n",
       "      <th>...</th>\n",
       "      <td>...</td>\n",
       "      <td>...</td>\n",
       "      <td>...</td>\n",
       "      <td>...</td>\n",
       "      <td>...</td>\n",
       "      <td>...</td>\n",
       "      <td>...</td>\n",
       "      <td>...</td>\n",
       "      <td>...</td>\n",
       "      <td>...</td>\n",
       "      <td>...</td>\n",
       "      <td>...</td>\n",
       "      <td>...</td>\n",
       "      <td>...</td>\n",
       "      <td>...</td>\n",
       "      <td>...</td>\n",
       "      <td>...</td>\n",
       "      <td>...</td>\n",
       "      <td>...</td>\n",
       "      <td>...</td>\n",
       "      <td>...</td>\n",
       "    </tr>\n",
       "    <tr>\n",
       "      <th>1335</th>\n",
       "      <td>Chris Smith</td>\n",
       "      <td>80</td>\n",
       "      <td>15.8</td>\n",
       "      <td>4.3</td>\n",
       "      <td>1.6</td>\n",
       "      <td>3.6</td>\n",
       "      <td>43.3</td>\n",
       "      <td>0.0</td>\n",
       "      <td>0.2</td>\n",
       "      <td>14.3</td>\n",
       "      <td>...</td>\n",
       "      <td>1.5</td>\n",
       "      <td>79.2</td>\n",
       "      <td>0.4</td>\n",
       "      <td>0.8</td>\n",
       "      <td>1.2</td>\n",
       "      <td>2.5</td>\n",
       "      <td>0.6</td>\n",
       "      <td>0.2</td>\n",
       "      <td>0.8</td>\n",
       "      <td>0.0</td>\n",
       "    </tr>\n",
       "    <tr>\n",
       "      <th>1336</th>\n",
       "      <td>Brent Price</td>\n",
       "      <td>68</td>\n",
       "      <td>12.6</td>\n",
       "      <td>3.9</td>\n",
       "      <td>1.5</td>\n",
       "      <td>4.1</td>\n",
       "      <td>35.8</td>\n",
       "      <td>0.1</td>\n",
       "      <td>0.7</td>\n",
       "      <td>16.7</td>\n",
       "      <td>...</td>\n",
       "      <td>1.0</td>\n",
       "      <td>79.4</td>\n",
       "      <td>0.4</td>\n",
       "      <td>1.1</td>\n",
       "      <td>1.5</td>\n",
       "      <td>2.3</td>\n",
       "      <td>0.8</td>\n",
       "      <td>0.0</td>\n",
       "      <td>1.3</td>\n",
       "      <td>1.0</td>\n",
       "    </tr>\n",
       "    <tr>\n",
       "      <th>1337</th>\n",
       "      <td>Marlon Maxey</td>\n",
       "      <td>43</td>\n",
       "      <td>12.1</td>\n",
       "      <td>5.4</td>\n",
       "      <td>2.2</td>\n",
       "      <td>3.9</td>\n",
       "      <td>55.0</td>\n",
       "      <td>0.0</td>\n",
       "      <td>0.0</td>\n",
       "      <td>0.0</td>\n",
       "      <td>...</td>\n",
       "      <td>1.6</td>\n",
       "      <td>64.3</td>\n",
       "      <td>1.5</td>\n",
       "      <td>2.3</td>\n",
       "      <td>3.8</td>\n",
       "      <td>0.3</td>\n",
       "      <td>0.3</td>\n",
       "      <td>0.4</td>\n",
       "      <td>0.9</td>\n",
       "      <td>0.0</td>\n",
       "    </tr>\n",
       "    <tr>\n",
       "      <th>1338</th>\n",
       "      <td>Litterial Green</td>\n",
       "      <td>52</td>\n",
       "      <td>12.0</td>\n",
       "      <td>4.5</td>\n",
       "      <td>1.7</td>\n",
       "      <td>3.8</td>\n",
       "      <td>43.9</td>\n",
       "      <td>0.0</td>\n",
       "      <td>0.2</td>\n",
       "      <td>10.0</td>\n",
       "      <td>...</td>\n",
       "      <td>1.8</td>\n",
       "      <td>62.5</td>\n",
       "      <td>0.2</td>\n",
       "      <td>0.4</td>\n",
       "      <td>0.7</td>\n",
       "      <td>2.2</td>\n",
       "      <td>0.4</td>\n",
       "      <td>0.1</td>\n",
       "      <td>0.8</td>\n",
       "      <td>1.0</td>\n",
       "    </tr>\n",
       "    <tr>\n",
       "      <th>1339</th>\n",
       "      <td>Jon Barry</td>\n",
       "      <td>47</td>\n",
       "      <td>11.7</td>\n",
       "      <td>4.4</td>\n",
       "      <td>1.6</td>\n",
       "      <td>4.4</td>\n",
       "      <td>36.9</td>\n",
       "      <td>0.4</td>\n",
       "      <td>1.3</td>\n",
       "      <td>33.3</td>\n",
       "      <td>...</td>\n",
       "      <td>1.0</td>\n",
       "      <td>67.3</td>\n",
       "      <td>0.2</td>\n",
       "      <td>0.7</td>\n",
       "      <td>0.9</td>\n",
       "      <td>1.4</td>\n",
       "      <td>0.7</td>\n",
       "      <td>0.1</td>\n",
       "      <td>0.9</td>\n",
       "      <td>1.0</td>\n",
       "    </tr>\n",
       "  </tbody>\n",
       "</table>\n",
       "<p>1340 rows × 21 columns</p>\n",
       "</div>"
      ],
      "text/plain": [
       "                 Name  GP   MIN  PTS  FGM  FGA   FG%  3P Made  3PA   3P%  ...  \\\n",
       "0      Brandon Ingram  36  27.4  7.4  2.6  7.6  34.7      0.5  2.1  25.0  ...   \n",
       "1     Andrew Harrison  35  26.9  7.2  2.0  6.7  29.6      0.7  2.8  23.5  ...   \n",
       "2      JaKarr Sampson  74  15.3  5.2  2.0  4.7  42.2      0.4  1.7  24.4  ...   \n",
       "3         Malik Sealy  58  11.6  5.7  2.3  5.5  42.6      0.1  0.5  22.6  ...   \n",
       "4         Matt Geiger  48  11.5  4.5  1.6  3.0  52.4      0.0  0.1   0.0  ...   \n",
       "...               ...  ..   ...  ...  ...  ...   ...      ...  ...   ...  ...   \n",
       "1335      Chris Smith  80  15.8  4.3  1.6  3.6  43.3      0.0  0.2  14.3  ...   \n",
       "1336      Brent Price  68  12.6  3.9  1.5  4.1  35.8      0.1  0.7  16.7  ...   \n",
       "1337     Marlon Maxey  43  12.1  5.4  2.2  3.9  55.0      0.0  0.0   0.0  ...   \n",
       "1338  Litterial Green  52  12.0  4.5  1.7  3.8  43.9      0.0  0.2  10.0  ...   \n",
       "1339        Jon Barry  47  11.7  4.4  1.6  4.4  36.9      0.4  1.3  33.3  ...   \n",
       "\n",
       "      FTA   FT%  OREB  DREB  REB  AST  STL  BLK  TOV  TARGET_5Yrs  \n",
       "0     2.3  69.9   0.7   3.4  4.1  1.9  0.4  0.4  1.3          0.0  \n",
       "1     3.4  76.5   0.5   2.0  2.4  3.7  1.1  0.5  1.6          0.0  \n",
       "2     1.3  67.0   0.5   1.7  2.2  1.0  0.5  0.3  1.0          0.0  \n",
       "3     1.3  68.9   1.0   0.9  1.9  0.8  0.6  0.1  1.0          1.0  \n",
       "4     1.9  67.4   1.0   1.5  2.5  0.3  0.3  0.4  0.8          1.0  \n",
       "...   ...   ...   ...   ...  ...  ...  ...  ...  ...          ...  \n",
       "1335  1.5  79.2   0.4   0.8  1.2  2.5  0.6  0.2  0.8          0.0  \n",
       "1336  1.0  79.4   0.4   1.1  1.5  2.3  0.8  0.0  1.3          1.0  \n",
       "1337  1.6  64.3   1.5   2.3  3.8  0.3  0.3  0.4  0.9          0.0  \n",
       "1338  1.8  62.5   0.2   0.4  0.7  2.2  0.4  0.1  0.8          1.0  \n",
       "1339  1.0  67.3   0.2   0.7  0.9  1.4  0.7  0.1  0.9          1.0  \n",
       "\n",
       "[1340 rows x 21 columns]"
      ]
     },
     "execution_count": 39,
     "metadata": {},
     "output_type": "execute_result"
    }
   ],
   "source": [
    "df"
   ]
  },
  {
   "cell_type": "code",
   "execution_count": 40,
   "id": "c3e29458-3614-4f9a-95cd-a9dab1785eba",
   "metadata": {},
   "outputs": [],
   "source": [
    "df = df.rename(columns={'GP': 'GamesPlayed', 'FT%': 'FreeThrowPercent', 'BLK': 'Blocks'})"
   ]
  },
  {
   "cell_type": "code",
   "execution_count": 41,
   "id": "ca665052-8e2e-4233-a2d4-35d89fafce80",
   "metadata": {},
   "outputs": [
    {
     "data": {
      "text/html": [
       "<div>\n",
       "<style scoped>\n",
       "    .dataframe tbody tr th:only-of-type {\n",
       "        vertical-align: middle;\n",
       "    }\n",
       "\n",
       "    .dataframe tbody tr th {\n",
       "        vertical-align: top;\n",
       "    }\n",
       "\n",
       "    .dataframe thead th {\n",
       "        text-align: right;\n",
       "    }\n",
       "</style>\n",
       "<table border=\"1\" class=\"dataframe\">\n",
       "  <thead>\n",
       "    <tr style=\"text-align: right;\">\n",
       "      <th></th>\n",
       "      <th>Name</th>\n",
       "      <th>GamesPlayed</th>\n",
       "      <th>MIN</th>\n",
       "      <th>PTS</th>\n",
       "      <th>FGM</th>\n",
       "      <th>FGA</th>\n",
       "      <th>FG%</th>\n",
       "      <th>3P Made</th>\n",
       "      <th>3PA</th>\n",
       "      <th>3P%</th>\n",
       "      <th>...</th>\n",
       "      <th>FTA</th>\n",
       "      <th>FreeThrowPercent</th>\n",
       "      <th>OREB</th>\n",
       "      <th>DREB</th>\n",
       "      <th>REB</th>\n",
       "      <th>AST</th>\n",
       "      <th>STL</th>\n",
       "      <th>Blocks</th>\n",
       "      <th>TOV</th>\n",
       "      <th>TARGET_5Yrs</th>\n",
       "    </tr>\n",
       "  </thead>\n",
       "  <tbody>\n",
       "    <tr>\n",
       "      <th>0</th>\n",
       "      <td>Brandon Ingram</td>\n",
       "      <td>36</td>\n",
       "      <td>27.4</td>\n",
       "      <td>7.4</td>\n",
       "      <td>2.6</td>\n",
       "      <td>7.6</td>\n",
       "      <td>34.7</td>\n",
       "      <td>0.5</td>\n",
       "      <td>2.1</td>\n",
       "      <td>25.0</td>\n",
       "      <td>...</td>\n",
       "      <td>2.3</td>\n",
       "      <td>69.9</td>\n",
       "      <td>0.7</td>\n",
       "      <td>3.4</td>\n",
       "      <td>4.1</td>\n",
       "      <td>1.9</td>\n",
       "      <td>0.4</td>\n",
       "      <td>0.4</td>\n",
       "      <td>1.3</td>\n",
       "      <td>0.0</td>\n",
       "    </tr>\n",
       "    <tr>\n",
       "      <th>1</th>\n",
       "      <td>Andrew Harrison</td>\n",
       "      <td>35</td>\n",
       "      <td>26.9</td>\n",
       "      <td>7.2</td>\n",
       "      <td>2.0</td>\n",
       "      <td>6.7</td>\n",
       "      <td>29.6</td>\n",
       "      <td>0.7</td>\n",
       "      <td>2.8</td>\n",
       "      <td>23.5</td>\n",
       "      <td>...</td>\n",
       "      <td>3.4</td>\n",
       "      <td>76.5</td>\n",
       "      <td>0.5</td>\n",
       "      <td>2.0</td>\n",
       "      <td>2.4</td>\n",
       "      <td>3.7</td>\n",
       "      <td>1.1</td>\n",
       "      <td>0.5</td>\n",
       "      <td>1.6</td>\n",
       "      <td>0.0</td>\n",
       "    </tr>\n",
       "    <tr>\n",
       "      <th>2</th>\n",
       "      <td>JaKarr Sampson</td>\n",
       "      <td>74</td>\n",
       "      <td>15.3</td>\n",
       "      <td>5.2</td>\n",
       "      <td>2.0</td>\n",
       "      <td>4.7</td>\n",
       "      <td>42.2</td>\n",
       "      <td>0.4</td>\n",
       "      <td>1.7</td>\n",
       "      <td>24.4</td>\n",
       "      <td>...</td>\n",
       "      <td>1.3</td>\n",
       "      <td>67.0</td>\n",
       "      <td>0.5</td>\n",
       "      <td>1.7</td>\n",
       "      <td>2.2</td>\n",
       "      <td>1.0</td>\n",
       "      <td>0.5</td>\n",
       "      <td>0.3</td>\n",
       "      <td>1.0</td>\n",
       "      <td>0.0</td>\n",
       "    </tr>\n",
       "    <tr>\n",
       "      <th>3</th>\n",
       "      <td>Malik Sealy</td>\n",
       "      <td>58</td>\n",
       "      <td>11.6</td>\n",
       "      <td>5.7</td>\n",
       "      <td>2.3</td>\n",
       "      <td>5.5</td>\n",
       "      <td>42.6</td>\n",
       "      <td>0.1</td>\n",
       "      <td>0.5</td>\n",
       "      <td>22.6</td>\n",
       "      <td>...</td>\n",
       "      <td>1.3</td>\n",
       "      <td>68.9</td>\n",
       "      <td>1.0</td>\n",
       "      <td>0.9</td>\n",
       "      <td>1.9</td>\n",
       "      <td>0.8</td>\n",
       "      <td>0.6</td>\n",
       "      <td>0.1</td>\n",
       "      <td>1.0</td>\n",
       "      <td>1.0</td>\n",
       "    </tr>\n",
       "    <tr>\n",
       "      <th>4</th>\n",
       "      <td>Matt Geiger</td>\n",
       "      <td>48</td>\n",
       "      <td>11.5</td>\n",
       "      <td>4.5</td>\n",
       "      <td>1.6</td>\n",
       "      <td>3.0</td>\n",
       "      <td>52.4</td>\n",
       "      <td>0.0</td>\n",
       "      <td>0.1</td>\n",
       "      <td>0.0</td>\n",
       "      <td>...</td>\n",
       "      <td>1.9</td>\n",
       "      <td>67.4</td>\n",
       "      <td>1.0</td>\n",
       "      <td>1.5</td>\n",
       "      <td>2.5</td>\n",
       "      <td>0.3</td>\n",
       "      <td>0.3</td>\n",
       "      <td>0.4</td>\n",
       "      <td>0.8</td>\n",
       "      <td>1.0</td>\n",
       "    </tr>\n",
       "  </tbody>\n",
       "</table>\n",
       "<p>5 rows × 21 columns</p>\n",
       "</div>"
      ],
      "text/plain": [
       "              Name  GamesPlayed   MIN  PTS  FGM  FGA   FG%  3P Made  3PA  \\\n",
       "0   Brandon Ingram           36  27.4  7.4  2.6  7.6  34.7      0.5  2.1   \n",
       "1  Andrew Harrison           35  26.9  7.2  2.0  6.7  29.6      0.7  2.8   \n",
       "2   JaKarr Sampson           74  15.3  5.2  2.0  4.7  42.2      0.4  1.7   \n",
       "3      Malik Sealy           58  11.6  5.7  2.3  5.5  42.6      0.1  0.5   \n",
       "4      Matt Geiger           48  11.5  4.5  1.6  3.0  52.4      0.0  0.1   \n",
       "\n",
       "    3P%  ...  FTA  FreeThrowPercent  OREB  DREB  REB  AST  STL  Blocks  TOV  \\\n",
       "0  25.0  ...  2.3              69.9   0.7   3.4  4.1  1.9  0.4     0.4  1.3   \n",
       "1  23.5  ...  3.4              76.5   0.5   2.0  2.4  3.7  1.1     0.5  1.6   \n",
       "2  24.4  ...  1.3              67.0   0.5   1.7  2.2  1.0  0.5     0.3  1.0   \n",
       "3  22.6  ...  1.3              68.9   1.0   0.9  1.9  0.8  0.6     0.1  1.0   \n",
       "4   0.0  ...  1.9              67.4   1.0   1.5  2.5  0.3  0.3     0.4  0.8   \n",
       "\n",
       "   TARGET_5Yrs  \n",
       "0          0.0  \n",
       "1          0.0  \n",
       "2          0.0  \n",
       "3          1.0  \n",
       "4          1.0  \n",
       "\n",
       "[5 rows x 21 columns]"
      ]
     },
     "execution_count": 41,
     "metadata": {},
     "output_type": "execute_result"
    }
   ],
   "source": [
    "df.head()"
   ]
  },
  {
   "cell_type": "code",
   "execution_count": 42,
   "id": "44c0e05e-6645-43c3-9a4f-3ccf884cfa2e",
   "metadata": {},
   "outputs": [
    {
     "name": "stdout",
     "output_type": "stream",
     "text": [
      "<class 'pandas.core.frame.DataFrame'>\n",
      "RangeIndex: 1340 entries, 0 to 1339\n",
      "Data columns (total 21 columns):\n",
      " #   Column            Non-Null Count  Dtype  \n",
      "---  ------            --------------  -----  \n",
      " 0   Name              1340 non-null   object \n",
      " 1   GamesPlayed       1340 non-null   int64  \n",
      " 2   MIN               1340 non-null   float64\n",
      " 3   PTS               1340 non-null   float64\n",
      " 4   FGM               1340 non-null   float64\n",
      " 5   FGA               1340 non-null   float64\n",
      " 6   FG%               1340 non-null   float64\n",
      " 7   3P Made           1340 non-null   float64\n",
      " 8   3PA               1340 non-null   float64\n",
      " 9   3P%               1329 non-null   float64\n",
      " 10  FTM               1340 non-null   float64\n",
      " 11  FTA               1340 non-null   float64\n",
      " 12  FreeThrowPercent  1340 non-null   float64\n",
      " 13  OREB              1340 non-null   float64\n",
      " 14  DREB              1340 non-null   float64\n",
      " 15  REB               1340 non-null   float64\n",
      " 16  AST               1340 non-null   float64\n",
      " 17  STL               1340 non-null   float64\n",
      " 18  Blocks            1340 non-null   float64\n",
      " 19  TOV               1340 non-null   float64\n",
      " 20  TARGET_5Yrs       1340 non-null   float64\n",
      "dtypes: float64(19), int64(1), object(1)\n",
      "memory usage: 220.0+ KB\n",
      "None\n",
      "----------------------------------------------------------------------------------------------\n",
      "                   count       mean        std   min     25%    50%   75%  \\\n",
      "GamesPlayed       1340.0  60.414179  17.433992  11.0  47.000  63.00  77.0   \n",
      "MIN               1340.0  17.624627   8.307964   3.1  10.875  16.10  22.9   \n",
      "PTS               1340.0   6.801493   4.357545   0.7   3.700   5.55   8.8   \n",
      "FGM               1340.0   2.629104   1.683555   0.3   1.400   2.10   3.4   \n",
      "FGA               1340.0   5.885299   3.593488   0.8   3.300   4.80   7.5   \n",
      "FG%               1340.0  44.169403   6.137679  23.8  40.200  44.10  47.9   \n",
      "3P Made           1340.0   0.247612   0.383688   0.0   0.000   0.10   0.4   \n",
      "3PA               1340.0   0.779179   1.061847   0.0   0.000   0.30   1.2   \n",
      "3P%               1329.0  19.308126  16.022916   0.0   0.000  22.40  32.5   \n",
      "FTM               1340.0   1.297687   0.987246   0.0   0.600   1.00   1.6   \n",
      "FTA               1340.0   1.821940   1.322984   0.0   0.900   1.50   2.3   \n",
      "FreeThrowPercent  1340.0  70.300299  10.578479   0.0  64.700  71.25  77.6   \n",
      "OREB              1340.0   1.009403   0.777119   0.0   0.400   0.80   1.4   \n",
      "DREB              1340.0   2.025746   1.360008   0.2   1.000   1.70   2.6   \n",
      "REB               1340.0   3.034478   2.057774   0.3   1.500   2.50   4.0   \n",
      "AST               1340.0   1.550522   1.471169   0.0   0.600   1.10   2.0   \n",
      "STL               1340.0   0.618507   0.409759   0.0   0.300   0.50   0.8   \n",
      "Blocks            1340.0   0.368582   0.429049   0.0   0.100   0.20   0.5   \n",
      "TOV               1340.0   1.193582   0.722541   0.1   0.700   1.00   1.5   \n",
      "TARGET_5Yrs       1340.0   0.620149   0.485531   0.0   0.000   1.00   1.0   \n",
      "\n",
      "                    max  \n",
      "GamesPlayed        82.0  \n",
      "MIN                40.9  \n",
      "PTS                28.2  \n",
      "FGM                10.2  \n",
      "FGA                19.8  \n",
      "FG%                73.7  \n",
      "3P Made             2.3  \n",
      "3PA                 6.5  \n",
      "3P%               100.0  \n",
      "FTM                 7.7  \n",
      "FTA                10.2  \n",
      "FreeThrowPercent  100.0  \n",
      "OREB                5.3  \n",
      "DREB                9.6  \n",
      "REB                13.9  \n",
      "AST                10.6  \n",
      "STL                 2.5  \n",
      "Blocks              3.9  \n",
      "TOV                 4.4  \n",
      "TARGET_5Yrs         1.0  \n"
     ]
    }
   ],
   "source": [
    "def get_first_info(df): \n",
    "    print(df.info()) \n",
    "    print(\"----------------------------------------------------------------------------------------------\") \n",
    "    print(df.describe().T)\n",
    "\n",
    "get_first_info(df)"
   ]
  },
  {
   "cell_type": "code",
   "execution_count": 43,
   "id": "7adb6263-a9ff-4a23-8741-3d3b532a3690",
   "metadata": {},
   "outputs": [],
   "source": [
    "def grab_col_names(dataframe,cat_upper_limit=10 ,cardinal_lower_limit = 20): \n",
    "    \"\"\" \n",
    "    This function helps to determine types of columns. Numerical,Categorical,Cardinal \n",
    "    Parameters: dataframe = DataFrame \n",
    "    cat_upper_limit = upper limit of categorical columns's number of unique ->values 10 inital value\n",
    "    cardinal_lowe_limit = lower limit to classify a column as cardinal -> 20 initial value\n",
    "    Return: \n",
    "    cat_cols: includes categorical names but also includes encoding columns or has less unique value than cat_lower_limit\n",
    "    num_cols: includes  names of numerical columns \n",
    "    cardinal_cols : includes names of cardinal columns.In other words,columns which does not carry information. \n",
    "    \"\"\"  \n",
    "    # cat_cols, cat_but_car\n",
    "    cat_cols = [col for col in dataframe.columns if dataframe[col].dtypes == \"O\"]\n",
    "    num_but_cat = [col for col in dataframe.columns if dataframe[col].nunique() < cat_upper_limit and \n",
    "                   dataframe[col].dtypes != \"O\"]\n",
    "    cat_but_car = [col for col in dataframe.columns if dataframe[col].nunique() > cardinal_lower_limit and \n",
    "                   dataframe[col].dtypes == \"O\"]\n",
    "    cat_cols = cat_cols + num_but_cat\n",
    "    cat_cols = [col for col in cat_cols if col not in cat_but_car]\n",
    "\n",
    "    # num_cols\n",
    "    num_cols = [col for col in dataframe.columns if dataframe[col].dtypes != \"O\"]\n",
    "    num_cols = [col for col in num_cols if col not in num_but_cat]\n",
    " \n",
    "    return cat_cols,num_cols,cat_but_car"
   ]
  },
  {
   "cell_type": "code",
   "execution_count": 44,
   "id": "cc3153ec-b653-4846-9b76-8c5da0bcde27",
   "metadata": {},
   "outputs": [],
   "source": [
    "cat_cols,num_cols,cardinal_cols = grab_col_names(df)"
   ]
  },
  {
   "cell_type": "code",
   "execution_count": 45,
   "id": "b0a28ce1-83fb-4c61-88b3-6a98febae548",
   "metadata": {},
   "outputs": [],
   "source": [
    "def printColsTypes(num_cols,cat_cols,cardinal_cols):\n",
    "    print(cat_cols,\"\\n\", num_cols,\"\\n\",cardinal_cols)"
   ]
  },
  {
   "cell_type": "code",
   "execution_count": 46,
   "id": "906a0ea3-8784-483b-9bb0-b25a13b05fc2",
   "metadata": {},
   "outputs": [
    {
     "name": "stdout",
     "output_type": "stream",
     "text": [
      "['TARGET_5Yrs'] \n",
      " ['GamesPlayed', 'MIN', 'PTS', 'FGM', 'FGA', 'FG%', '3P Made', '3PA', '3P%', 'FTM', 'FTA', 'FreeThrowPercent', 'OREB', 'DREB', 'REB', 'AST', 'STL', 'Blocks', 'TOV'] \n",
      " ['Name']\n"
     ]
    }
   ],
   "source": [
    "printColsTypes(num_cols,cat_cols,cardinal_cols)"
   ]
  },
  {
   "cell_type": "code",
   "execution_count": 47,
   "id": "08eea536-c678-4aed-b7a0-4c7af66b34ad",
   "metadata": {},
   "outputs": [],
   "source": [
    "df.drop(\"Name\",axis=1,inplace=True)"
   ]
  },
  {
   "cell_type": "code",
   "execution_count": 48,
   "id": "c9e1e786-9ffe-403d-afaa-bad9f65e8844",
   "metadata": {},
   "outputs": [
    {
     "data": {
      "text/html": [
       "<div>\n",
       "<style scoped>\n",
       "    .dataframe tbody tr th:only-of-type {\n",
       "        vertical-align: middle;\n",
       "    }\n",
       "\n",
       "    .dataframe tbody tr th {\n",
       "        vertical-align: top;\n",
       "    }\n",
       "\n",
       "    .dataframe thead th {\n",
       "        text-align: right;\n",
       "    }\n",
       "</style>\n",
       "<table border=\"1\" class=\"dataframe\">\n",
       "  <thead>\n",
       "    <tr style=\"text-align: right;\">\n",
       "      <th></th>\n",
       "      <th>GamesPlayed</th>\n",
       "      <th>MIN</th>\n",
       "      <th>PTS</th>\n",
       "      <th>FGM</th>\n",
       "      <th>FGA</th>\n",
       "      <th>FG%</th>\n",
       "      <th>3P Made</th>\n",
       "      <th>3PA</th>\n",
       "      <th>3P%</th>\n",
       "      <th>FTM</th>\n",
       "      <th>FTA</th>\n",
       "      <th>FreeThrowPercent</th>\n",
       "      <th>OREB</th>\n",
       "      <th>DREB</th>\n",
       "      <th>REB</th>\n",
       "      <th>AST</th>\n",
       "      <th>STL</th>\n",
       "      <th>Blocks</th>\n",
       "      <th>TOV</th>\n",
       "      <th>TARGET_5Yrs</th>\n",
       "    </tr>\n",
       "  </thead>\n",
       "  <tbody>\n",
       "    <tr>\n",
       "      <th>0</th>\n",
       "      <td>36</td>\n",
       "      <td>27.4</td>\n",
       "      <td>7.4</td>\n",
       "      <td>2.6</td>\n",
       "      <td>7.6</td>\n",
       "      <td>34.7</td>\n",
       "      <td>0.5</td>\n",
       "      <td>2.1</td>\n",
       "      <td>25.0</td>\n",
       "      <td>1.6</td>\n",
       "      <td>2.3</td>\n",
       "      <td>69.9</td>\n",
       "      <td>0.7</td>\n",
       "      <td>3.4</td>\n",
       "      <td>4.1</td>\n",
       "      <td>1.9</td>\n",
       "      <td>0.4</td>\n",
       "      <td>0.4</td>\n",
       "      <td>1.3</td>\n",
       "      <td>0.0</td>\n",
       "    </tr>\n",
       "    <tr>\n",
       "      <th>1</th>\n",
       "      <td>35</td>\n",
       "      <td>26.9</td>\n",
       "      <td>7.2</td>\n",
       "      <td>2.0</td>\n",
       "      <td>6.7</td>\n",
       "      <td>29.6</td>\n",
       "      <td>0.7</td>\n",
       "      <td>2.8</td>\n",
       "      <td>23.5</td>\n",
       "      <td>2.6</td>\n",
       "      <td>3.4</td>\n",
       "      <td>76.5</td>\n",
       "      <td>0.5</td>\n",
       "      <td>2.0</td>\n",
       "      <td>2.4</td>\n",
       "      <td>3.7</td>\n",
       "      <td>1.1</td>\n",
       "      <td>0.5</td>\n",
       "      <td>1.6</td>\n",
       "      <td>0.0</td>\n",
       "    </tr>\n",
       "    <tr>\n",
       "      <th>2</th>\n",
       "      <td>74</td>\n",
       "      <td>15.3</td>\n",
       "      <td>5.2</td>\n",
       "      <td>2.0</td>\n",
       "      <td>4.7</td>\n",
       "      <td>42.2</td>\n",
       "      <td>0.4</td>\n",
       "      <td>1.7</td>\n",
       "      <td>24.4</td>\n",
       "      <td>0.9</td>\n",
       "      <td>1.3</td>\n",
       "      <td>67.0</td>\n",
       "      <td>0.5</td>\n",
       "      <td>1.7</td>\n",
       "      <td>2.2</td>\n",
       "      <td>1.0</td>\n",
       "      <td>0.5</td>\n",
       "      <td>0.3</td>\n",
       "      <td>1.0</td>\n",
       "      <td>0.0</td>\n",
       "    </tr>\n",
       "    <tr>\n",
       "      <th>3</th>\n",
       "      <td>58</td>\n",
       "      <td>11.6</td>\n",
       "      <td>5.7</td>\n",
       "      <td>2.3</td>\n",
       "      <td>5.5</td>\n",
       "      <td>42.6</td>\n",
       "      <td>0.1</td>\n",
       "      <td>0.5</td>\n",
       "      <td>22.6</td>\n",
       "      <td>0.9</td>\n",
       "      <td>1.3</td>\n",
       "      <td>68.9</td>\n",
       "      <td>1.0</td>\n",
       "      <td>0.9</td>\n",
       "      <td>1.9</td>\n",
       "      <td>0.8</td>\n",
       "      <td>0.6</td>\n",
       "      <td>0.1</td>\n",
       "      <td>1.0</td>\n",
       "      <td>1.0</td>\n",
       "    </tr>\n",
       "    <tr>\n",
       "      <th>4</th>\n",
       "      <td>48</td>\n",
       "      <td>11.5</td>\n",
       "      <td>4.5</td>\n",
       "      <td>1.6</td>\n",
       "      <td>3.0</td>\n",
       "      <td>52.4</td>\n",
       "      <td>0.0</td>\n",
       "      <td>0.1</td>\n",
       "      <td>0.0</td>\n",
       "      <td>1.3</td>\n",
       "      <td>1.9</td>\n",
       "      <td>67.4</td>\n",
       "      <td>1.0</td>\n",
       "      <td>1.5</td>\n",
       "      <td>2.5</td>\n",
       "      <td>0.3</td>\n",
       "      <td>0.3</td>\n",
       "      <td>0.4</td>\n",
       "      <td>0.8</td>\n",
       "      <td>1.0</td>\n",
       "    </tr>\n",
       "  </tbody>\n",
       "</table>\n",
       "</div>"
      ],
      "text/plain": [
       "   GamesPlayed   MIN  PTS  FGM  FGA   FG%  3P Made  3PA   3P%  FTM  FTA  \\\n",
       "0           36  27.4  7.4  2.6  7.6  34.7      0.5  2.1  25.0  1.6  2.3   \n",
       "1           35  26.9  7.2  2.0  6.7  29.6      0.7  2.8  23.5  2.6  3.4   \n",
       "2           74  15.3  5.2  2.0  4.7  42.2      0.4  1.7  24.4  0.9  1.3   \n",
       "3           58  11.6  5.7  2.3  5.5  42.6      0.1  0.5  22.6  0.9  1.3   \n",
       "4           48  11.5  4.5  1.6  3.0  52.4      0.0  0.1   0.0  1.3  1.9   \n",
       "\n",
       "   FreeThrowPercent  OREB  DREB  REB  AST  STL  Blocks  TOV  TARGET_5Yrs  \n",
       "0              69.9   0.7   3.4  4.1  1.9  0.4     0.4  1.3          0.0  \n",
       "1              76.5   0.5   2.0  2.4  3.7  1.1     0.5  1.6          0.0  \n",
       "2              67.0   0.5   1.7  2.2  1.0  0.5     0.3  1.0          0.0  \n",
       "3              68.9   1.0   0.9  1.9  0.8  0.6     0.1  1.0          1.0  \n",
       "4              67.4   1.0   1.5  2.5  0.3  0.3     0.4  0.8          1.0  "
      ]
     },
     "execution_count": 48,
     "metadata": {},
     "output_type": "execute_result"
    }
   ],
   "source": [
    "df.head()"
   ]
  },
  {
   "cell_type": "code",
   "execution_count": 49,
   "id": "bf495e09-8f66-4d93-895a-539a7293b1c6",
   "metadata": {},
   "outputs": [],
   "source": [
    "def summarize_Data_Plot(df,cat_cols,num_cols): \n",
    "    for col_name in cat_cols :   \n",
    "        print(pd.DataFrame({col_name: df[col_name].value_counts(),\n",
    "                        \"Ratio\": 100 * df[col_name].value_counts() / len(df)}))\n",
    "        sns.countplot(x=df[col_name],data=df)\n",
    "        plt.show()  \n",
    "        print(\"-------------------------------------------------------------------------------\") \n",
    "    for col_name in num_cols:  \n",
    "        quantiles = [0.05, 0.10, 0.20, 0.30, 0.40, 0.50, 0.60, 0.70, 0.80, 0.90, 0.95, 0.99]\n",
    "        print(col_name)\n",
    "        print(df[col_name].describe(quantiles).T)\n",
    "        df[col_name].hist() \n",
    "        plt.title(col_name) \n",
    "        plt.show()\n",
    "        print(\"-------------------------------------------------------------------------------\") "
   ]
  },
  {
   "cell_type": "code",
   "execution_count": 50,
   "id": "c8e28966-7c83-4d4b-b1d4-fa7b4a36c413",
   "metadata": {},
   "outputs": [
    {
     "name": "stdout",
     "output_type": "stream",
     "text": [
      "     TARGET_5Yrs      Ratio\n",
      "1.0          831  62.014925\n",
      "0.0          509  37.985075\n"
     ]
    },
    {
     "data": {
      "image/png": "[encoded data removed]",
      "text/plain": [
       "<Figure size 432x288 with 1 Axes>"
      ]
     },
     "metadata": {
      "needs_background": "light"
     },
     "output_type": "display_data"
    },
    {
     "name": "stdout",
     "output_type": "stream",
     "text": [
      "-------------------------------------------------------------------------------\n",
      "GamesPlayed\n",
      "count    1340.000000\n",
      "mean       60.414179\n",
      "std        17.433992\n",
      "min        11.000000\n",
      "5%         31.000000\n",
      "10%        36.000000\n",
      "20%        43.000000\n",
      "30%        50.000000\n",
      "40%        56.000000\n",
      "50%        63.000000\n",
      "60%        69.000000\n",
      "70%        75.000000\n",
      "80%        79.000000\n",
      "90%        81.000000\n",
      "95%        82.000000\n",
      "99%        82.000000\n",
      "max        82.000000\n",
      "Name: GamesPlayed, dtype: float64\n"
     ]
    },
    {
     "data": {
      "image/png": "[encoded data removed]",
      "text/plain": [
       "<Figure size 432x288 with 1 Axes>"
      ]
     },
     "metadata": {
      "needs_background": "light"
     },
     "output_type": "display_data"
    },
    {
     "name": "stdout",
     "output_type": "stream",
     "text": [
      "-------------------------------------------------------------------------------\n",
      "MIN\n",
      "count    1340.000000\n",
      "mean       17.624627\n",
      "std         8.307964\n",
      "min         3.100000\n",
      "5%          6.800000\n",
      "10%         8.200000\n",
      "20%        10.000000\n",
      "30%        11.700000\n",
      "40%        13.900000\n",
      "50%        16.100000\n",
      "60%        18.700000\n",
      "70%        21.300000\n",
      "80%        24.920000\n",
      "90%        30.200000\n",
      "95%        33.800000\n",
      "99%        37.622000\n",
      "max        40.900000\n",
      "Name: MIN, dtype: float64\n"
     ]
    },
    {
     "data": {
      "image/png": "[encoded data removed]",
      "text/plain": [
       "<Figure size 432x288 with 1 Axes>"
      ]
     },
     "metadata": {
      "needs_background": "light"
     },
     "output_type": "display_data"
    },
    {
     "name": "stdout",
     "output_type": "stream",
     "text": [
      "-------------------------------------------------------------------------------\n",
      "PTS\n",
      "count    1340.000000\n",
      "mean        6.801493\n",
      "std         4.357545\n",
      "min         0.700000\n",
      "5%          2.000000\n",
      "10%         2.600000\n",
      "20%         3.300000\n",
      "30%         4.000000\n",
      "40%         4.700000\n",
      "50%         5.550000\n",
      "60%         6.600000\n",
      "70%         8.030000\n",
      "80%         9.600000\n",
      "90%        13.200000\n",
      "95%        15.905000\n",
      "99%        21.000000\n",
      "max        28.200000\n",
      "Name: PTS, dtype: float64\n"
     ]
    },
    {
     "data": {
      "image/png": "[encoded data removed]",
      "text/plain": [
       "<Figure size 432x288 with 1 Axes>"
      ]
     },
     "metadata": {
      "needs_background": "light"
     },
     "output_type": "display_data"
    },
    {
     "name": "stdout",
     "output_type": "stream",
     "text": [
      "-------------------------------------------------------------------------------\n",
      "FGM\n",
      "count    1340.000000\n",
      "mean        2.629104\n",
      "std         1.683555\n",
      "min         0.300000\n",
      "5%          0.800000\n",
      "10%         1.000000\n",
      "20%         1.300000\n",
      "30%         1.500000\n",
      "40%         1.800000\n",
      "50%         2.100000\n",
      "60%         2.600000\n",
      "70%         3.100000\n",
      "80%         3.700000\n",
      "90%         5.100000\n",
      "95%         6.100000\n",
      "99%         7.961000\n",
      "max        10.200000\n",
      "Name: FGM, dtype: float64\n"
     ]
    },
    {
     "data": {
      "image/png": "[encoded data removed]",
      "text/plain": [
       "<Figure size 432x288 with 1 Axes>"
      ]
     },
     "metadata": {
      "needs_background": "light"
     },
     "output_type": "display_data"
    },
    {
     "name": "stdout",
     "output_type": "stream",
     "text": [
      "-------------------------------------------------------------------------------\n",
      "FGA\n",
      "count    1340.000000\n",
      "mean        5.885299\n",
      "std         3.593488\n",
      "min         0.800000\n",
      "5%          1.900000\n",
      "10%         2.400000\n",
      "20%         3.000000\n",
      "30%         3.600000\n",
      "40%         4.200000\n",
      "50%         4.800000\n",
      "60%         5.700000\n",
      "70%         6.800000\n",
      "80%         8.300000\n",
      "90%        11.400000\n",
      "95%        13.500000\n",
      "99%        17.022000\n",
      "max        19.800000\n",
      "Name: FGA, dtype: float64\n"
     ]
    },
    {
     "data": {
      "image/png": "[encoded data removed]",
      "text/plain": [
       "<Figure size 432x288 with 1 Axes>"
      ]
     },
     "metadata": {
      "needs_background": "light"
     },
     "output_type": "display_data"
    },
    {
     "name": "stdout",
     "output_type": "stream",
     "text": [
      "-------------------------------------------------------------------------------\n",
      "FG%\n",
      "count    1340.000000\n",
      "mean       44.169403\n",
      "std         6.137679\n",
      "min        23.800000\n",
      "5%         34.800000\n",
      "10%        36.800000\n",
      "20%        39.200000\n",
      "30%        41.100000\n",
      "40%        42.500000\n",
      "50%        44.100000\n",
      "60%        45.500000\n",
      "70%        47.000000\n",
      "80%        49.000000\n",
      "90%        52.100000\n",
      "95%        54.500000\n",
      "99%        59.383000\n",
      "max        73.700000\n",
      "Name: FG%, dtype: float64\n"
     ]
    },
    {
     "data": {
      "image/png": "[encoded data removed]",
      "text/plain": [
       "<Figure size 432x288 with 1 Axes>"
      ]
     },
     "metadata": {
      "needs_background": "light"
     },
     "output_type": "display_data"
    },
    {
     "name": "stdout",
     "output_type": "stream",
     "text": [
      "-------------------------------------------------------------------------------\n",
      "3P Made\n",
      "count    1340.000000\n",
      "mean        0.247612\n",
      "std         0.383688\n",
      "min         0.000000\n",
      "5%          0.000000\n",
      "10%         0.000000\n",
      "20%         0.000000\n",
      "30%         0.000000\n",
      "40%         0.000000\n",
      "50%         0.100000\n",
      "60%         0.100000\n",
      "70%         0.300000\n",
      "80%         0.500000\n",
      "90%         0.800000\n",
      "95%         1.100000\n",
      "99%         1.661000\n",
      "max         2.300000\n",
      "Name: 3P Made, dtype: float64\n"
     ]
    },
    {
     "data": {
      "image/png": "[encoded data removed]",
      "text/plain": [
       "<Figure size 432x288 with 1 Axes>"
      ]
     },
     "metadata": {
      "needs_background": "light"
     },
     "output_type": "display_data"
    },
    {
     "name": "stdout",
     "output_type": "stream",
     "text": [
      "-------------------------------------------------------------------------------\n",
      "3PA\n",
      "count    1340.000000\n",
      "mean        0.779179\n",
      "std         1.061847\n",
      "min         0.000000\n",
      "5%          0.000000\n",
      "10%         0.000000\n",
      "20%         0.000000\n",
      "30%         0.100000\n",
      "40%         0.100000\n",
      "50%         0.300000\n",
      "60%         0.500000\n",
      "70%         0.900000\n",
      "80%         1.500000\n",
      "90%         2.300000\n",
      "95%         3.100000\n",
      "99%         4.461000\n",
      "max         6.500000\n",
      "Name: 3PA, dtype: float64\n"
     ]
    },
    {
     "data": {
      "image/png": "[encoded data removed]",
      "text/plain": [
       "<Figure size 432x288 with 1 Axes>"
      ]
     },
     "metadata": {
      "needs_background": "light"
     },
     "output_type": "display_data"
    },
    {
     "name": "stdout",
     "output_type": "stream",
     "text": [
      "-------------------------------------------------------------------------------\n",
      "3P%\n",
      "count    1329.000000\n",
      "mean       19.308126\n",
      "std        16.022916\n",
      "min         0.000000\n",
      "5%          0.000000\n",
      "10%         0.000000\n",
      "20%         0.000000\n",
      "30%         0.000000\n",
      "40%        16.700000\n",
      "50%        22.400000\n",
      "60%        27.100000\n",
      "70%        31.000000\n",
      "80%        33.300000\n",
      "90%        37.500000\n",
      "95%        40.000000\n",
      "99%        50.000000\n",
      "max       100.000000\n",
      "Name: 3P%, dtype: float64\n"
     ]
    },
    {
     "data": {
      "image/png": "[encoded data removed]",
      "text/plain": [
       "<Figure size 432x288 with 1 Axes>"
      ]
     },
     "metadata": {
      "needs_background": "light"
     },
     "output_type": "display_data"
    },
    {
     "name": "stdout",
     "output_type": "stream",
     "text": [
      "-------------------------------------------------------------------------------\n",
      "FTM\n",
      "count    1340.000000\n",
      "mean        1.297687\n",
      "std         0.987246\n",
      "min         0.000000\n",
      "5%          0.300000\n",
      "10%         0.400000\n",
      "20%         0.580000\n",
      "30%         0.700000\n",
      "40%         0.900000\n",
      "50%         1.000000\n",
      "60%         1.200000\n",
      "70%         1.500000\n",
      "80%         1.900000\n",
      "90%         2.500000\n",
      "95%         3.300000\n",
      "99%         5.000000\n",
      "max         7.700000\n",
      "Name: FTM, dtype: float64\n"
     ]
    },
    {
     "data": {
      "image/png": "[encoded data removed]",
      "text/plain": [
       "<Figure size 432x288 with 1 Axes>"
      ]
     },
     "metadata": {
      "needs_background": "light"
     },
     "output_type": "display_data"
    },
    {
     "name": "stdout",
     "output_type": "stream",
     "text": [
      "-------------------------------------------------------------------------------\n",
      "FTA\n",
      "count    1340.000000\n",
      "mean        1.821940\n",
      "std         1.322984\n",
      "min         0.000000\n",
      "5%          0.400000\n",
      "10%         0.600000\n",
      "20%         0.800000\n",
      "30%         1.000000\n",
      "40%         1.200000\n",
      "50%         1.500000\n",
      "60%         1.700000\n",
      "70%         2.100000\n",
      "80%         2.600000\n",
      "90%         3.500000\n",
      "95%         4.605000\n",
      "99%         6.461000\n",
      "max        10.200000\n",
      "Name: FTA, dtype: float64\n"
     ]
    },
    {
     "data": {
      "image/png": "[encoded data removed]",
      "text/plain": [
       "<Figure size 432x288 with 1 Axes>"
      ]
     },
     "metadata": {
      "needs_background": "light"
     },
     "output_type": "display_data"
    },
    {
     "name": "stdout",
     "output_type": "stream",
     "text": [
      "-------------------------------------------------------------------------------\n",
      "FreeThrowPercent\n",
      "count    1340.000000\n",
      "mean       70.300299\n",
      "std        10.578479\n",
      "min         0.000000\n",
      "5%         50.685000\n",
      "10%        56.400000\n",
      "20%        62.580000\n",
      "30%        66.200000\n",
      "40%        68.860000\n",
      "50%        71.250000\n",
      "60%        73.600000\n",
      "70%        76.130000\n",
      "80%        78.900000\n",
      "90%        82.400000\n",
      "95%        85.100000\n",
      "99%        90.500000\n",
      "max       100.000000\n",
      "Name: FreeThrowPercent, dtype: float64\n"
     ]
    },
    {
     "data": {
      "image/png": "[encoded data removed]",
      "text/plain": [
       "<Figure size 432x288 with 1 Axes>"
      ]
     },
     "metadata": {
      "needs_background": "light"
     },
     "output_type": "display_data"
    },
    {
     "name": "stdout",
     "output_type": "stream",
     "text": [
      "-------------------------------------------------------------------------------\n",
      "OREB\n",
      "count    1340.000000\n",
      "mean        1.009403\n",
      "std         0.777119\n",
      "min         0.000000\n",
      "5%          0.200000\n",
      "10%         0.200000\n",
      "20%         0.400000\n",
      "30%         0.500000\n",
      "40%         0.600000\n",
      "50%         0.800000\n",
      "60%         1.000000\n",
      "70%         1.200000\n",
      "80%         1.600000\n",
      "90%         2.100000\n",
      "95%         2.500000\n",
      "99%         3.700000\n",
      "max         5.300000\n",
      "Name: OREB, dtype: float64\n"
     ]
    },
    {
     "data": {
      "image/png": "[encoded data removed]",
      "text/plain": [
       "<Figure size 432x288 with 1 Axes>"
      ]
     },
     "metadata": {
      "needs_background": "light"
     },
     "output_type": "display_data"
    },
    {
     "name": "stdout",
     "output_type": "stream",
     "text": [
      "-------------------------------------------------------------------------------\n",
      "DREB\n",
      "count    1340.000000\n",
      "mean        2.025746\n",
      "std         1.360008\n",
      "min         0.200000\n",
      "5%          0.500000\n",
      "10%         0.700000\n",
      "20%         0.900000\n",
      "30%         1.100000\n",
      "40%         1.400000\n",
      "50%         1.700000\n",
      "60%         2.000000\n",
      "70%         2.400000\n",
      "80%         2.900000\n",
      "90%         3.800000\n",
      "95%         4.700000\n",
      "99%         6.600000\n",
      "max         9.600000\n",
      "Name: DREB, dtype: float64\n"
     ]
    },
    {
     "data": {
      "image/png": "[encoded data removed]",
      "text/plain": [
       "<Figure size 432x288 with 1 Axes>"
      ]
     },
     "metadata": {
      "needs_background": "light"
     },
     "output_type": "display_data"
    },
    {
     "name": "stdout",
     "output_type": "stream",
     "text": [
      "-------------------------------------------------------------------------------\n",
      "REB\n",
      "count    1340.000000\n",
      "mean        3.034478\n",
      "std         2.057774\n",
      "min         0.300000\n",
      "5%          0.800000\n",
      "10%         1.000000\n",
      "20%         1.300000\n",
      "30%         1.700000\n",
      "40%         2.000000\n",
      "50%         2.500000\n",
      "60%         3.000000\n",
      "70%         3.600000\n",
      "80%         4.400000\n",
      "90%         5.710000\n",
      "95%         7.400000\n",
      "99%        10.300000\n",
      "max        13.900000\n",
      "Name: REB, dtype: float64\n"
     ]
    },
    {
     "data": {
      "image/png": "[encoded data removed]",
      "text/plain": [
       "<Figure size 432x288 with 1 Axes>"
      ]
     },
     "metadata": {
      "needs_background": "light"
     },
     "output_type": "display_data"
    },
    {
     "name": "stdout",
     "output_type": "stream",
     "text": [
      "-------------------------------------------------------------------------------\n",
      "AST\n",
      "count    1340.000000\n",
      "mean        1.550522\n",
      "std         1.471169\n",
      "min         0.000000\n",
      "5%          0.200000\n",
      "10%         0.300000\n",
      "20%         0.500000\n",
      "30%         0.700000\n",
      "40%         0.800000\n",
      "50%         1.100000\n",
      "60%         1.400000\n",
      "70%         1.800000\n",
      "80%         2.400000\n",
      "90%         3.400000\n",
      "95%         4.405000\n",
      "99%         7.561000\n",
      "max        10.600000\n",
      "Name: AST, dtype: float64\n"
     ]
    },
    {
     "data": {
      "image/png": "[encoded data removed]",
      "text/plain": [
       "<Figure size 432x288 with 1 Axes>"
      ]
     },
     "metadata": {
      "needs_background": "light"
     },
     "output_type": "display_data"
    },
    {
     "name": "stdout",
     "output_type": "stream",
     "text": [
      "-------------------------------------------------------------------------------\n",
      "STL\n",
      "count    1340.000000\n",
      "mean        0.618507\n",
      "std         0.409759\n",
      "min         0.000000\n",
      "5%          0.100000\n",
      "10%         0.200000\n",
      "20%         0.300000\n",
      "30%         0.400000\n",
      "40%         0.400000\n",
      "50%         0.500000\n",
      "60%         0.600000\n",
      "70%         0.700000\n",
      "80%         0.900000\n",
      "90%         1.200000\n",
      "95%         1.500000\n",
      "99%         1.961000\n",
      "max         2.500000\n",
      "Name: STL, dtype: float64\n"
     ]
    },
    {
     "data": {
      "image/png": "[encoded data removed]",
      "text/plain": [
       "<Figure size 432x288 with 1 Axes>"
      ]
     },
     "metadata": {
      "needs_background": "light"
     },
     "output_type": "display_data"
    },
    {
     "name": "stdout",
     "output_type": "stream",
     "text": [
      "-------------------------------------------------------------------------------\n",
      "Blocks\n",
      "count    1340.000000\n",
      "mean        0.368582\n",
      "std         0.429049\n",
      "min         0.000000\n",
      "5%          0.000000\n",
      "10%         0.000000\n",
      "20%         0.100000\n",
      "30%         0.100000\n",
      "40%         0.200000\n",
      "50%         0.200000\n",
      "60%         0.300000\n",
      "70%         0.400000\n",
      "80%         0.600000\n",
      "90%         0.900000\n",
      "95%         1.205000\n",
      "99%         1.900000\n",
      "max         3.900000\n",
      "Name: Blocks, dtype: float64\n"
     ]
    },
    {
     "data": {
      "image/png": "[encoded data removed]",
      "text/plain": [
       "<Figure size 432x288 with 1 Axes>"
      ]
     },
     "metadata": {
      "needs_background": "light"
     },
     "output_type": "display_data"
    },
    {
     "name": "stdout",
     "output_type": "stream",
     "text": [
      "-------------------------------------------------------------------------------\n",
      "TOV\n",
      "count    1340.000000\n",
      "mean        1.193582\n",
      "std         0.722541\n",
      "min         0.100000\n",
      "5%          0.400000\n",
      "10%         0.500000\n",
      "20%         0.600000\n",
      "30%         0.700000\n",
      "40%         0.900000\n",
      "50%         1.000000\n",
      "60%         1.200000\n",
      "70%         1.400000\n",
      "80%         1.700000\n",
      "90%         2.200000\n",
      "95%         2.705000\n",
      "99%         3.500000\n",
      "max         4.400000\n",
      "Name: TOV, dtype: float64\n"
     ]
    },
    {
     "data": {
      "image/png": "[encoded data removed]",
      "text/plain": [
       "<Figure size 432x288 with 1 Axes>"
      ]
     },
     "metadata": {
      "needs_background": "light"
     },
     "output_type": "display_data"
    },
    {
     "name": "stdout",
     "output_type": "stream",
     "text": [
      "-------------------------------------------------------------------------------\n"
     ]
    }
   ],
   "source": [
    "summarize_Data_Plot(df,cat_cols,num_cols)"
   ]
  },
  {
   "cell_type": "code",
   "execution_count": 52,
   "id": "dd6d9537-41e2-43db-9cf8-0c577d710ce3",
   "metadata": {},
   "outputs": [
    {
     "data": {
      "text/html": [
       "<div>\n",
       "<style scoped>\n",
       "    .dataframe tbody tr th:only-of-type {\n",
       "        vertical-align: middle;\n",
       "    }\n",
       "\n",
       "    .dataframe tbody tr th {\n",
       "        vertical-align: top;\n",
       "    }\n",
       "\n",
       "    .dataframe thead tr th {\n",
       "        text-align: left;\n",
       "    }\n",
       "\n",
       "    .dataframe thead tr:last-of-type th {\n",
       "        text-align: right;\n",
       "    }\n",
       "</style>\n",
       "<table border=\"1\" class=\"dataframe\">\n",
       "  <thead>\n",
       "    <tr>\n",
       "      <th></th>\n",
       "      <th colspan=\"3\" halign=\"left\">TOV</th>\n",
       "    </tr>\n",
       "    <tr>\n",
       "      <th></th>\n",
       "      <th>mean</th>\n",
       "      <th>min</th>\n",
       "      <th>max</th>\n",
       "    </tr>\n",
       "    <tr>\n",
       "      <th>TARGET_5Yrs</th>\n",
       "      <th></th>\n",
       "      <th></th>\n",
       "      <th></th>\n",
       "    </tr>\n",
       "  </thead>\n",
       "  <tbody>\n",
       "    <tr>\n",
       "      <th>0.0</th>\n",
       "      <td>0.942240</td>\n",
       "      <td>0.1</td>\n",
       "      <td>3.9</td>\n",
       "    </tr>\n",
       "    <tr>\n",
       "      <th>1.0</th>\n",
       "      <td>1.347533</td>\n",
       "      <td>0.1</td>\n",
       "      <td>4.4</td>\n",
       "    </tr>\n",
       "  </tbody>\n",
       "</table>\n",
       "</div>"
      ],
      "text/plain": [
       "                  TOV          \n",
       "                 mean  min  max\n",
       "TARGET_5Yrs                    \n",
       "0.0          0.942240  0.1  3.9\n",
       "1.0          1.347533  0.1  4.4"
      ]
     },
     "execution_count": 52,
     "metadata": {},
     "output_type": "execute_result"
    }
   ],
   "source": [
    "df.groupby(\"TARGET_5Yrs\").agg({\"TOV\":[\"mean\",\"min\",\"max\"]})"
   ]
  },
  {
   "cell_type": "code",
   "execution_count": null,
   "id": "0cf00dfe-fae1-49c2-b7fa-39a698b20786",
   "metadata": {},
   "outputs": [],
   "source": []
  }
 ],
 "metadata": {
  "kernelspec": {
   "display_name": "Python 3",
   "language": "python",
   "name": "python3"
  },
  "language_info": {
   "codemirror_mode": {
    "name": "ipython",
    "version": 3
   },
   "file_extension": ".py",
   "mimetype": "text/x-python",
   "name": "python",
   "nbconvert_exporter": "python",
   "pygments_lexer": "ipython3",
   "version": "3.8.8"
  }
 },
 "nbformat": 4,
 "nbformat_minor": 5
}
